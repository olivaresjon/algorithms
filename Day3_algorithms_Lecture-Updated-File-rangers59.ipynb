{
 "cells": [
  {
   "cell_type": "markdown",
   "metadata": {},
   "source": [
    "# Algorithms, Binary Search & Linked Lists"
   ]
  },
  {
   "cell_type": "markdown",
   "metadata": {},
   "source": [
    "## Tasks Today:\n",
    " \n",
    "1) <b>In-Place Algorithms</b> <br>\n",
    " &nbsp;&nbsp;&nbsp;&nbsp; a) Syntax <br>\n",
    " &nbsp;&nbsp;&nbsp;&nbsp; a) Out of Place Algorithm <br>\n",
    " &nbsp;&nbsp;&nbsp;&nbsp; b) In-Class Exercise #1 <br>\n",
    "2) <b>Two Pointers</b> <br>\n",
    "3) <b>Linked Lists</b> <br>\n",
    "4) <b>Merge Sort</b> <br>\n",
    " &nbsp;&nbsp;&nbsp;&nbsp; a) Video on Algorithms <br>\n",
    " &nbsp;&nbsp;&nbsp;&nbsp; b) How it Works <br>\n",
    "5) <b>Exercises</b> <br>\n",
    " &nbsp;&nbsp;&nbsp;&nbsp; a) Exercise #1 - Reverse a List in Place Using an In-Place Algorithm <br>\n",
    " &nbsp;&nbsp;&nbsp;&nbsp; b) Exercise #2 - Find Distinct Words <br>\n",
    " &nbsp;&nbsp;&nbsp;&nbsp; c) Exercise #3 - Write a program to implement a Linear Search Algorithm. <br>"
   ]
  },
  {
   "cell_type": "markdown",
   "metadata": {},
   "source": [
    "## In-Place Algorithms"
   ]
  },
  {
   "cell_type": "markdown",
   "metadata": {},
   "source": [
    "#### Syntax"
   ]
  },
  {
   "cell_type": "code",
   "execution_count": 16,
   "metadata": {},
   "outputs": [
    {
     "name": "stdout",
     "output_type": "stream",
     "text": [
      "before swap [1, 2, 3]\n",
      "after swap [3, 2, 1]\n"
     ]
    }
   ],
   "source": [
    "#def function to swap the order of xyz index\n",
    "#also known as swap algorithms\n",
    "def swap(a_list, x,y,z):\n",
    "    #swapping using commma assignment\n",
    "    [a_list[x],a_list[y],a_list[z]] = [a_list[z],a_list[y],a_list[x]]\n",
    "    return a_list\n",
    "    \n",
    "my_list = [1,2,3]\n",
    "print(f\"before swap {my_list}\")\n",
    "\n",
    "swap(my_list,0,1,2)\n",
    "print(f\"after swap {my_list}\")"
   ]
  },
  {
   "cell_type": "markdown",
   "metadata": {},
   "source": [
    "#### Out of Place Algorithm"
   ]
  },
  {
   "cell_type": "code",
   "execution_count": 8,
   "metadata": {},
   "outputs": [
    {
     "name": "stdout",
     "output_type": "stream",
     "text": [
      "[3, 2, 1]\n"
     ]
    }
   ],
   "source": [
    "#not swapping, completely reversing but also copies to another place in memory\n",
    "my_new = my_list[::-1]\n",
    "print(my_new)\n"
   ]
  },
  {
   "cell_type": "markdown",
   "metadata": {},
   "source": [
    "#### In-Class Exercise #1 <br>\n",
    "<p>Write a function that takes in four arguments (list, index1, index2, index3), and swaps those three positions in the list passed in.</p>"
   ]
  },
  {
   "cell_type": "code",
   "execution_count": 19,
   "metadata": {},
   "outputs": [
    {
     "name": "stdout",
     "output_type": "stream",
     "text": [
      "before swap \n",
      "[10, 4, 3, 8, 4, 2, 6]\n",
      "adter swap \n",
      "[3, 4, 10, 8, 4, 2, 6]\n"
     ]
    }
   ],
   "source": [
    "def algofun(list_1, index1, index2,index3):\n",
    "    \n",
    "    list_1[index1], list_1[index2], list_1[index3] = list_1[index3], list_1[index2], list_1[index1]\n",
    "    return list_1\n",
    "\n",
    "list_1 = [10, 4, 3, 8, 4, 2, 6]\n",
    "print(f\"before swap \\n{list_1}\")\n",
    "index1, index2, index3 =0,1,2\n",
    "\n",
    "print(f\"adter swap \\n{algofun(list_1,index1, index2,index3)}\")\n"
   ]
  },
  {
   "cell_type": "markdown",
   "metadata": {},
   "source": [
    "## Two Pointers"
   ]
  },
  {
   "cell_type": "markdown",
   "metadata": {},
   "source": [
    "#### Syntax"
   ]
  },
  {
   "cell_type": "code",
   "execution_count": 25,
   "metadata": {},
   "outputs": [
    {
     "name": "stdout",
     "output_type": "stream",
     "text": [
      "[9, 2, 3, 6, 5, 4, 7, 8, 1]\n"
     ]
    }
   ],
   "source": [
    "def twopoint(alist):\n",
    "    left = 0 \n",
    "    right = len(alist) - 1\n",
    "    \n",
    "    while left <= right:\n",
    "        alist[left], alist[right] = alist[right], alist[left]\n",
    "        left += 3\n",
    "        right -= 3\n",
    "    return alist\n",
    "alist = [1,2,3,4,5,6,7,8,9]\n",
    "print(twopoint(alist))"
   ]
  },
  {
   "cell_type": "markdown",
   "metadata": {},
   "source": [
    "#### Video of Algorithms <br>\n",
    "<p>Watch the video about algorithms.</p>\n",
    "\n",
    "https://www.youtube.com/watch?v=Q9HjeFD62Uk\n",
    "\n",
    "https://www.youtube.com/watch?v=kPRA0W1kECg\n",
    "\n",
    "https://www.youtube.com/watch?v=ZZuD6iUe3Pc"
   ]
  },
  {
   "cell_type": "markdown",
   "metadata": {},
   "source": [
    "# Sorting Algorithms"
   ]
  },
  {
   "cell_type": "markdown",
   "metadata": {},
   "source": [
    "#### Bubble Sort\n",
    "\n",
    "Worst Case: O(n^2) Time - O(1) Space"
   ]
  },
  {
   "cell_type": "code",
   "execution_count": 29,
   "metadata": {},
   "outputs": [
    {
     "name": "stdout",
     "output_type": "stream",
     "text": [
      "[4, 6, 56, 59, 647]\n"
     ]
    }
   ],
   "source": [
    "def sort(nums):\n",
    "    #first iteration\n",
    "    for i in range(len(nums)-1,0,-1):\n",
    "        #second iteration\n",
    "        for j in range(i):\n",
    "            #swap\n",
    "            if nums[j]>nums[j+1]:\n",
    "                nums[j],nums[j+1] = nums[j+1],nums[j]\n",
    "               \n",
    "nums = [59,56,6,647,4]\n",
    "sort(nums)\n",
    "print(nums)"
   ]
  },
  {
   "cell_type": "markdown",
   "metadata": {},
   "source": [
    "##### Insertion Sort\n",
    "\n",
    "Worst Case: O(n^2) time - O(1)space"
   ]
  },
  {
   "cell_type": "code",
   "execution_count": 48,
   "metadata": {},
   "outputs": [
    {
     "name": "stdout",
     "output_type": "stream",
     "text": [
      "[1, 2, 23, 333, 434]\n"
     ]
    }
   ],
   "source": [
    "def insertion_sort(list_a):\n",
    "    \n",
    "    indexing_length = range(1, len(list_a))\n",
    "    \n",
    "    for everynumber in indexing_length:\n",
    "        value_to_sort = list_a[everynumber]\n",
    "        while list_a[everynumber-1] > value_to_sort and everynumber > 0:\n",
    "            list_a[everynumber], list_a[everynumber-1] = list_a[everynumber-1], list_a[everynumber]\n",
    "            everynumber = everynumber - 1 #going down the list\n",
    "            \n",
    "    return list_a\n",
    "print(insertion_sort([333,23,434,2,1]))"
   ]
  },
  {
   "cell_type": "markdown",
   "metadata": {},
   "source": [
    "## Merge Sort"
   ]
  },
  {
   "cell_type": "markdown",
   "metadata": {},
   "source": [
    "#### How it Works"
   ]
  },
  {
   "cell_type": "code",
   "execution_count": 57,
   "metadata": {},
   "outputs": [
    {
     "name": "stdout",
     "output_type": "stream",
     "text": [
      "splitting  [16, 0, 15, 13, 18]\n",
      "splitting  [16, 0]\n",
      "splitting  [16]\n",
      "Merging... [16]\n",
      "splitting  [0]\n",
      "Merging... [0]\n",
      "Merging... [0, 16]\n",
      "splitting  [15, 13, 18]\n",
      "splitting  [15]\n",
      "Merging... [15]\n",
      "splitting  [13, 18]\n",
      "splitting  [13]\n",
      "Merging... [13]\n",
      "splitting  [18]\n",
      "Merging... [18]\n",
      "Merging... [13, 18]\n",
      "Merging... [13, 15, 18]\n",
      "Merging... [0, 13, 15, 16, 18]\n"
     ]
    },
    {
     "data": {
      "text/plain": [
       "[0, 13, 15, 16, 18]"
      ]
     },
     "execution_count": 57,
     "metadata": {},
     "output_type": "execute_result"
    }
   ],
   "source": [
    "from random import randint #used to generate list of 5 random numbers 0-20\n",
    "nums = [randint(0,20) for i in range(5)]\n",
    "\n",
    "def merge_sort(alist):\n",
    "    print(\"splitting \", alist)\n",
    "    \n",
    "    if len(alist) > 1: #step 1: divide the array into equal parts (as much as possisle)\n",
    "        mid = len(alist) // 2\n",
    "        lefthalf = alist[:mid]\n",
    "        righthalf = alist[mid:]\n",
    "        \n",
    "        #recursivley call function to perform splits if needed\n",
    "        #then merge once the splits are done\n",
    "        merge_sort(lefthalf)\n",
    "        merge_sort(righthalf)\n",
    "        \n",
    "        #index points for our list\n",
    "        i = 0 #pointer for our left half\n",
    "        j = 0 #pointer for our right half\n",
    "        k = 0 #pointer for our main array\n",
    "        \n",
    "        \n",
    "        #step two: compare the lefthalf and the right half\n",
    "        while i < len(lefthalf) and j < len(righthalf):\n",
    "            if lefthalf[i] < righthalf[j]:\n",
    "                alist[k] = lefthalf[i]\n",
    "                i = i + 1\n",
    "            else:\n",
    "                alist[k] = righthalf[j]\n",
    "                j = j +1\n",
    "            k = k + 1\n",
    "        #while merge place items in the correct positions\n",
    "        while i < len(lefthalf):\n",
    "            alist[k] = lefthalf[i]\n",
    "            i = i + 1\n",
    "            k = k + 1\n",
    "        while j < len(righthalf):\n",
    "            alist[k] = righthalf[j]\n",
    "            j = j + 1\n",
    "            k = k + 1\n",
    "    print(\"Merging...\", alist)\n",
    "    return alist\n",
    "merge_sort(nums)"
   ]
  },
  {
   "cell_type": "markdown",
   "metadata": {},
   "source": [
    "# Binary Search\n",
    "\n",
    "The Binary Search algorithm works by finding the number in the middle of a given array and comparing it to the target. Given that the array is sorted\n",
    "\n",
    "* The worst case run time for this algorithm is `O(log(n))`"
   ]
  },
  {
   "cell_type": "code",
   "execution_count": 62,
   "metadata": {},
   "outputs": [
    {
     "data": {
      "text/plain": [
       "'index is .... 1'"
      ]
     },
     "execution_count": 62,
     "metadata": {},
     "output_type": "execute_result"
    }
   ],
   "source": [
    "def binarysearch(array,target,left,right):\n",
    "    \n",
    "    while left <= right:\n",
    "        mid = left + right // 2\n",
    "        potmatch = array[mid]\n",
    "        if target == potmatch:\n",
    "            return f\"index is .... {mid}\"\n",
    "\n",
    "        elif target < potmatch:\n",
    "            right = mid - 1\n",
    "        else:\n",
    "            left = mid + 1\n",
    "    return -1\n",
    "def bsearch (array, target):\n",
    "    return binarysearch(array, target,0,len(array)-1)\n",
    "bsearch([22,44,55,66,77,88,100],44)"
   ]
  },
  {
   "cell_type": "markdown",
   "metadata": {},
   "source": [
    "# Exercises"
   ]
  },
  {
   "cell_type": "markdown",
   "metadata": {},
   "source": [
    "### Exercise #1 <br>\n",
    "<p>Reverse the list below in-place using an in-place algorithm.<br>For extra credit: Reverse the strings at the same time.</p>"
   ]
  },
  {
   "cell_type": "code",
   "execution_count": 76,
   "metadata": {},
   "outputs": [
    {
     "name": "stdout",
     "output_type": "stream",
     "text": [
      "['.', 'ecnetnes', 'a', 'si', 'siht']\n"
     ]
    }
   ],
   "source": [
    "words = ['this' , 'is', 'a', 'sentence', '.']\n",
    "words_length=len(words)\n",
    "for i in range(words_length//2):\n",
    "    words[i],words[words_length-1-i]=words[words_length-1-i][::-1],words[i][::-1]\n",
    "print(words)\n",
    "\n",
    "#print(range(words_length//2))\n",
    "#print(words_length -1 - i)\n"
   ]
  },
  {
   "cell_type": "markdown",
   "metadata": {},
   "source": [
    "### Exercise #2 <br>\n",
    "<p>Create a function that counts how many distinct words are in the string below, then outputs a dictionary with the words as the key and the value as the amount of times that word appears in the string.<br>Should output:<br>{'a': 5,<br>\n",
    " 'abstract': 1,<br>\n",
    " 'an': 3,<br>\n",
    " 'array': 2, ... etc...</p>"
   ]
  },
  {
   "cell_type": "code",
   "execution_count": 77,
   "metadata": {},
   "outputs": [
    {
     "name": "stdout",
     "output_type": "stream",
     "text": [
      "{'In': 1, 'computing,': 1, 'a': 4, 'hash': 4, 'table': 2, 'map': 2, 'is': 1, 'data': 2, 'structure': 2, 'which': 2, 'implements': 1, 'an': 3, 'associative': 1, 'array': 2, 'abstract': 1, 'type,': 1, 'that': 1, 'can': 2, 'keys': 1, 'to': 2, 'values.': 1, 'A': 1, 'uses': 1, 'function': 1, 'compute': 1, 'index': 1, 'into': 1, 'of': 1, 'buckets': 1, 'or': 1, 'slots': 1, 'from': 1, 'the': 1, 'desired': 1, 'value': 1, 'be': 1, 'found': 1}\n"
     ]
    }
   ],
   "source": [
    "string_of_interest = 'In computing, a hash table hash map is a data structure which implements an associative array abstract data type, a structure that can map keys to values. A hash table uses a hash function to compute an index into an array of buckets or slots from which the desired value can be found'\n",
    "\n",
    "# Function called \"frequency_counter\"\n",
    "def frequency_counter(string_of_interest):\n",
    "    # Dictionary of word counts\n",
    "    diction = {}\n",
    "\n",
    "    # Loop over the words in the string\n",
    "    # by splitting them by space\n",
    "    for word_of_input_str in string_of_interest.split():\n",
    "        # If word already exists in the dictionary\n",
    "        if word_of_input_str in diction:\n",
    "            # Increment its count by 1 in dictionary\n",
    "            diction[word_of_input_str] += 1\n",
    "        else:\n",
    "            # Otherwise, add the word to dictionary with count of 1\n",
    "            diction[word_of_input_str] = 1\n",
    "\n",
    "    # Return the dictionary\n",
    "    return diction\n",
    "\n",
    "# Call the function with string\n",
    "print(frequency_counter(string_of_interest))\n"
   ]
  },
  {
   "cell_type": "markdown",
   "metadata": {},
   "source": [
    "## Exercise #3\n",
    "\n",
    "Write a program to implement a Linear Search Algorithm. Also in a comment, write the Time Complexity of the following algorithm.\n",
    "\n",
    "#### Hint: Linear Searching will require searching a list for a given number. "
   ]
  },
  {
   "cell_type": "code",
   "execution_count": 78,
   "metadata": {},
   "outputs": [
    {
     "name": "stdout",
     "output_type": "stream",
     "text": [
      "Element found at index:  3\n"
     ]
    }
   ],
   "source": [
    "def linear_Search(nums_list,key):  \n",
    "    # Searching nums_list sequentially  \n",
    "    for i in range(0, len(nums_list)):  \n",
    "        if (nums_list[i] == key):  \n",
    "            return i  \n",
    "    return -1  \n",
    " \n",
    "##### Input ######  \n",
    "nums_list = [10,23,45,70,11,15]  \n",
    "target = 70 \n",
    " \n",
    "result = linear_Search(nums_list, target)  \n",
    "if(result == -1):  \n",
    "    print(\"Element not found\")  \n",
    "else:  \n",
    "    print(\"Element found at index: \", result)  \n",
    "    \n",
    "# The time complexcity of linear seach is O(n), n is the number of elements\n",
    "# in the list. The best time complexity where the target element is the first \n",
    "# element in the list is O(1).\n"
   ]
  },
  {
   "cell_type": "code",
   "execution_count": 79,
   "metadata": {},
   "outputs": [
    {
     "name": "stdout",
     "output_type": "stream",
     "text": [
      "Target found at index:  3\n"
     ]
    }
   ],
   "source": [
    "def linear_Search(nums_list,key):  \n",
    "    # Searching nums_list sequentially  \n",
    "    for i in range(0, len(nums_list)):\n",
    "        \n",
    "        if nums_list[i] == key:  \n",
    "            return i  \n",
    "    return -1  \n",
    " \n",
    "##### Input ######  \n",
    "nums_list = [10,23,45,70,11,15]  \n",
    "target = 70 \n",
    "\n",
    "result = linear_Search(nums_list, target)  \n",
    "if result == -1:  \n",
    "    print(\"Target not found\")  \n",
    "else:  \n",
    "    print(\"Target found at index: \", result)  \n",
    "    \n",
    "# The time complexcity is O(n), where n is the number of elements\n",
    "# In the list, the best time complexity is where the target element is the first element in the list is O(1)."
   ]
  },
  {
   "cell_type": "code",
   "execution_count": null,
   "metadata": {},
   "outputs": [],
   "source": []
  }
 ],
 "metadata": {
  "kernelspec": {
   "display_name": "Python 3 (ipykernel)",
   "language": "python",
   "name": "python3"
  },
  "language_info": {
   "codemirror_mode": {
    "name": "ipython",
    "version": 3
   },
   "file_extension": ".py",
   "mimetype": "text/x-python",
   "name": "python",
   "nbconvert_exporter": "python",
   "pygments_lexer": "ipython3",
   "version": "3.9.12"
  }
 },
 "nbformat": 4,
 "nbformat_minor": 2
}
